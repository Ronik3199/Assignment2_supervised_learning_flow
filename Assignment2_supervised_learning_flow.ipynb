{
 "cells": [
  {
   "cell_type": "markdown",
   "id": "ec202ada",
   "metadata": {},
   "source": [
    "# Assignment2 - Supervised Learning flow"
   ]
  },
  {
   "cell_type": "markdown",
   "id": "b06a2810",
   "metadata": {},
   "source": [
    "# Part 1 - Student details:\n",
    "* Please write the First Name and last 4 digits of the i.d. for each student. For example:\n",
    "<pre>Israel 9812</pre>"
   ]
  },
  {
   "cell_type": "code",
   "execution_count": 181,
   "id": "ca16486b",
   "metadata": {},
   "outputs": [],
   "source": [
    "# student 1: Shay 3519\n",
    "# student 2: Adi 7926\n",
    "# student 3: Roni 7556"
   ]
  },
  {
   "cell_type": "markdown",
   "id": "df67c2ee-87c8-499c-a04f-1853c332f51d",
   "metadata": {},
   "source": [
    "## Part 2 - Initial Preparations \n",
    "You could add as many code cells as needed"
   ]
  },
  {
   "cell_type": "code",
   "execution_count": 182,
   "id": "b29b3454-b568-4614-8017-f15b3c59fc55",
   "metadata": {},
   "outputs": [],
   "source": [
    "import pandas as pd\n",
    "import matplotlib.pyplot as plt\n",
    "import numpy as np\n",
    "from sklearn.preprocessing import StandardScaler, PolynomialFeatures, OneHotEncoder\n",
    "from sklearn.neighbors import KNeighborsClassifier\n",
    "from sklearn.tree import DecisionTreeClassifier\n",
    "from sklearn.model_selection import GridSearchCV\n",
    "from sklearn.metrics import accuracy_score, f1_score, make_scorer\n",
    "import matplotlib.pyplot as plt\n",
    "import seaborn as sns"
   ]
  },
  {
   "cell_type": "code",
   "execution_count": 183,
   "id": "4b47fe56-d611-4b28-be92-673db4d56400",
   "metadata": {},
   "outputs": [
    {
     "name": "stdout",
     "output_type": "stream",
     "text": [
      "Train Set:\n",
      "   alcohol  malic_acid   ash  alcalinity_of_ash  magnesium  total_phenols  \\\n",
      "0    12.08        1.83  2.32               18.5       81.0           1.60   \n",
      "1    13.58        2.58  2.69               24.5      105.0           1.55   \n",
      "2    12.37        0.94  1.36               10.6       88.0           1.98   \n",
      "3    11.82        1.72  1.88               19.5       86.0           2.50   \n",
      "4    13.16        3.57  2.15               21.0      102.0           1.50   \n",
      "\n",
      "   flavanoids  nonflavanoid_phenols  proanthocyanins  color_intensity   hue  \\\n",
      "0        1.50                  0.52             1.64             2.40  1.08   \n",
      "1        0.84                  0.39             1.54             8.66  0.74   \n",
      "2        0.57                  0.28             0.42             1.95  1.05   \n",
      "3        1.64                  0.37             1.42             2.06  0.94   \n",
      "4        0.55                  0.43             1.30             4.00  0.60   \n",
      "\n",
      "   od280/od315_of_diluted_wines  proline  target  \n",
      "0                          2.27    480.0       1  \n",
      "1                          1.80    750.0       2  \n",
      "2                          1.82    520.0       1  \n",
      "3                          2.44    415.0       1  \n",
      "4                          1.68    830.0       2  \n",
      "\n",
      "Test Set:\n",
      "   alcohol  malic_acid   ash  alcalinity_of_ash  magnesium  total_phenols  \\\n",
      "0    13.78        2.76  2.30               22.0       90.0           1.35   \n",
      "1    14.02        1.68  2.21               16.0       96.0           2.65   \n",
      "2    13.17        5.19  2.32               22.0       93.0           1.74   \n",
      "3    11.03        1.51  2.20               21.5       85.0           2.46   \n",
      "4    13.40        3.91  2.48               23.0      102.0           1.80   \n",
      "\n",
      "   flavanoids  nonflavanoid_phenols  proanthocyanins  color_intensity   hue  \\\n",
      "0        0.68                  0.41             1.03             9.58  0.70   \n",
      "1        2.33                  0.26             1.98             4.70  1.04   \n",
      "2        0.63                  0.61             1.55             7.90  0.60   \n",
      "3        2.17                  0.52             2.01             1.90  1.71   \n",
      "4        0.75                  0.43             1.41             7.30  0.70   \n",
      "\n",
      "   od280/od315_of_diluted_wines  proline  target  \n",
      "0                          1.68    615.0       2  \n",
      "1                          3.59   1035.0       0  \n",
      "2                          1.48    725.0       2  \n",
      "3                          2.87    407.0       1  \n",
      "4                          1.56    750.0       2  \n"
     ]
    }
   ],
   "source": [
    "train_file_path = 'wine_train.csv'\n",
    "test_file_path = 'wine_test.csv'\n",
    "\n",
    "train_df = pd.read_csv(train_file_path)\n",
    "test_df = pd.read_csv(test_file_path)\n",
    "\n",
    "print(\"Train Set:\")\n",
    "print(train_df.head())\n",
    "\n",
    "print(\"\\nTest Set:\")\n",
    "print(test_df.head())"
   ]
  },
  {
   "cell_type": "code",
   "execution_count": 184,
   "id": "53e27610-b640-4db0-80c9-789b5f5fae58",
   "metadata": {},
   "outputs": [
    {
     "name": "stdout",
     "output_type": "stream",
     "text": [
      "Train Data Statistics:           alcohol  malic_acid         ash  alcalinity_of_ash   magnesium  \\\n",
      "count  142.000000  142.000000  142.000000         142.000000  142.000000   \n",
      "mean    12.997254    2.297746    2.361690          19.419718   99.943662   \n",
      "std      0.789931    1.093317    0.283231           3.354815   13.683751   \n",
      "min     11.410000    0.740000    1.360000          10.600000   78.000000   \n",
      "25%     12.370000    1.592500    2.222500          17.250000   88.000000   \n",
      "50%     13.050000    1.865000    2.360000          19.250000   98.000000   \n",
      "75%     13.637500    3.020000    2.557500          21.375000  108.000000   \n",
      "max     14.750000    5.650000    3.230000          30.000000  151.000000   \n",
      "\n",
      "       total_phenols  flavanoids  nonflavanoid_phenols  proanthocyanins  \\\n",
      "count     142.000000  142.000000            142.000000       142.000000   \n",
      "mean        2.315986    2.063592              0.346690         1.561901   \n",
      "std         0.639469    1.005302              0.117562         0.540979   \n",
      "min         0.980000    0.340000              0.130000         0.420000   \n",
      "25%         1.782500    1.257500              0.260000         1.250000   \n",
      "50%         2.380000    2.155000              0.320000         1.505000   \n",
      "75%         2.822500    2.887500              0.430000         1.870000   \n",
      "max         3.880000    5.080000              0.630000         3.580000   \n",
      "\n",
      "       color_intensity         hue  od280/od315_of_diluted_wines      proline  \\\n",
      "count       142.000000  142.000000                    142.000000   142.000000   \n",
      "mean          5.030211    0.958563                      2.638873   742.457746   \n",
      "std           2.239593    0.219631                      0.718083   317.250905   \n",
      "min           1.280000    0.480000                      1.290000   278.000000   \n",
      "25%           3.180000    0.800000                      1.922500   500.000000   \n",
      "50%           4.800000    0.960000                      2.815000   660.000000   \n",
      "75%           6.182500    1.120000                      3.197500   957.500000   \n",
      "max          11.750000    1.450000                      4.000000  1680.000000   \n",
      "\n",
      "           target  \n",
      "count  142.000000  \n",
      "mean     0.922535  \n",
      "std      0.772524  \n",
      "min      0.000000  \n",
      "25%      0.000000  \n",
      "50%      1.000000  \n",
      "75%      2.000000  \n",
      "max      2.000000  \n",
      "\n",
      "Correlation Matrix:\n",
      "                                alcohol  malic_acid       ash  \\\n",
      "alcohol                       1.000000    0.125775  0.266255   \n",
      "malic_acid                    0.125775    1.000000  0.191182   \n",
      "ash                           0.266255    0.191182  1.000000   \n",
      "alcalinity_of_ash            -0.324234    0.282662  0.423830   \n",
      "magnesium                     0.308843    0.020063  0.378546   \n",
      "total_phenols                 0.271331   -0.322301  0.161905   \n",
      "flavanoids                    0.247231   -0.388624  0.164921   \n",
      "nonflavanoid_phenols         -0.088818    0.287977  0.148841   \n",
      "proanthocyanins               0.137788   -0.185538  0.065193   \n",
      "color_intensity               0.538669    0.250443  0.270956   \n",
      "hue                          -0.009125   -0.550526 -0.067239   \n",
      "od280/od315_of_diluted_wines  0.066571   -0.328693  0.040355   \n",
      "proline                       0.668455   -0.150744  0.275818   \n",
      "target                       -0.342386    0.392434 -0.109604   \n",
      "\n",
      "                              alcalinity_of_ash  magnesium  total_phenols  \\\n",
      "alcohol                               -0.324234   0.308843       0.271331   \n",
      "malic_acid                             0.282662   0.020063      -0.322301   \n",
      "ash                                    0.423830   0.378546       0.161905   \n",
      "alcalinity_of_ash                      1.000000  -0.011331      -0.314082   \n",
      "magnesium                             -0.011331   1.000000       0.209336   \n",
      "total_phenols                         -0.314082   0.209336       1.000000   \n",
      "flavanoids                            -0.328843   0.182837       0.869634   \n",
      "nonflavanoid_phenols                   0.316834  -0.232630      -0.414451   \n",
      "proanthocyanins                       -0.210546   0.145813       0.625767   \n",
      "color_intensity                       -0.016108   0.244744      -0.068393   \n",
      "hue                                   -0.258432   0.021679       0.442778   \n",
      "od280/od315_of_diluted_wines          -0.260420   0.054141       0.716507   \n",
      "proline                               -0.419231   0.388856       0.488763   \n",
      "target                                 0.502200  -0.215107      -0.726069   \n",
      "\n",
      "                              flavanoids  nonflavanoid_phenols  \\\n",
      "alcohol                         0.247231             -0.088818   \n",
      "malic_acid                     -0.388624              0.287977   \n",
      "ash                             0.164921              0.148841   \n",
      "alcalinity_of_ash              -0.328843              0.316834   \n",
      "magnesium                       0.182837             -0.232630   \n",
      "total_phenols                   0.869634             -0.414451   \n",
      "flavanoids                      1.000000             -0.515106   \n",
      "nonflavanoid_phenols           -0.515106              1.000000   \n",
      "proanthocyanins                 0.680019             -0.382196   \n",
      "color_intensity                -0.133475              0.164591   \n",
      "hue                             0.529995             -0.293616   \n",
      "od280/od315_of_diluted_wines    0.781781             -0.481035   \n",
      "proline                         0.489195             -0.229793   \n",
      "target                         -0.838060              0.455551   \n",
      "\n",
      "                              proanthocyanins  color_intensity       hue  \\\n",
      "alcohol                              0.137788         0.538669 -0.009125   \n",
      "malic_acid                          -0.185538         0.250443 -0.550526   \n",
      "ash                                  0.065193         0.270956 -0.067239   \n",
      "alcalinity_of_ash                   -0.210546        -0.016108 -0.258432   \n",
      "magnesium                            0.145813         0.244744  0.021679   \n",
      "total_phenols                        0.625767        -0.068393  0.442778   \n",
      "flavanoids                           0.680019        -0.133475  0.529995   \n",
      "nonflavanoid_phenols                -0.382196         0.164591 -0.293616   \n",
      "proanthocyanins                      1.000000        -0.028767  0.291350   \n",
      "color_intensity                     -0.028767         1.000000 -0.487257   \n",
      "hue                                  0.291350        -0.487257  1.000000   \n",
      "od280/od315_of_diluted_wines         0.546202        -0.419104  0.575794   \n",
      "proline                              0.345552         0.350029  0.237074   \n",
      "target                              -0.542524         0.236329 -0.618881   \n",
      "\n",
      "                              od280/od315_of_diluted_wines   proline    target  \n",
      "alcohol                                           0.066571  0.668455 -0.342386  \n",
      "malic_acid                                       -0.328693 -0.150744  0.392434  \n",
      "ash                                               0.040355  0.275818 -0.109604  \n",
      "alcalinity_of_ash                                -0.260420 -0.419231  0.502200  \n",
      "magnesium                                         0.054141  0.388856 -0.215107  \n",
      "total_phenols                                     0.716507  0.488763 -0.726069  \n",
      "flavanoids                                        0.781781  0.489195 -0.838060  \n",
      "nonflavanoid_phenols                             -0.481035 -0.229793  0.455551  \n",
      "proanthocyanins                                   0.546202  0.345552 -0.542524  \n",
      "color_intensity                                  -0.419104  0.350029  0.236329  \n",
      "hue                                               0.575794  0.237074 -0.618881  \n",
      "od280/od315_of_diluted_wines                      1.000000  0.311801 -0.788087  \n",
      "proline                                           0.311801  1.000000 -0.632869  \n",
      "target                                           -0.788087 -0.632869  1.000000  \n",
      "\n",
      "Train Data Info:\n",
      "<class 'pandas.core.frame.DataFrame'>\n",
      "RangeIndex: 142 entries, 0 to 141\n",
      "Data columns (total 14 columns):\n",
      " #   Column                        Non-Null Count  Dtype  \n",
      "---  ------                        --------------  -----  \n",
      " 0   alcohol                       142 non-null    float64\n",
      " 1   malic_acid                    142 non-null    float64\n",
      " 2   ash                           142 non-null    float64\n",
      " 3   alcalinity_of_ash             142 non-null    float64\n",
      " 4   magnesium                     142 non-null    float64\n",
      " 5   total_phenols                 142 non-null    float64\n",
      " 6   flavanoids                    142 non-null    float64\n",
      " 7   nonflavanoid_phenols          142 non-null    float64\n",
      " 8   proanthocyanins               142 non-null    float64\n",
      " 9   color_intensity               142 non-null    float64\n",
      " 10  hue                           142 non-null    float64\n",
      " 11  od280/od315_of_diluted_wines  142 non-null    float64\n",
      " 12  proline                       142 non-null    float64\n",
      " 13  target                        142 non-null    int64  \n",
      "dtypes: float64(13), int64(1)\n",
      "memory usage: 15.7 KB\n",
      "None\n",
      "\n",
      "Test Data Info:\n",
      "<class 'pandas.core.frame.DataFrame'>\n",
      "RangeIndex: 36 entries, 0 to 35\n",
      "Data columns (total 14 columns):\n",
      " #   Column                        Non-Null Count  Dtype  \n",
      "---  ------                        --------------  -----  \n",
      " 0   alcohol                       36 non-null     float64\n",
      " 1   malic_acid                    36 non-null     float64\n",
      " 2   ash                           36 non-null     float64\n",
      " 3   alcalinity_of_ash             36 non-null     float64\n",
      " 4   magnesium                     36 non-null     float64\n",
      " 5   total_phenols                 36 non-null     float64\n",
      " 6   flavanoids                    36 non-null     float64\n",
      " 7   nonflavanoid_phenols          36 non-null     float64\n",
      " 8   proanthocyanins               36 non-null     float64\n",
      " 9   color_intensity               36 non-null     float64\n",
      " 10  hue                           36 non-null     float64\n",
      " 11  od280/od315_of_diluted_wines  36 non-null     float64\n",
      " 12  proline                       36 non-null     float64\n",
      " 13  target                        36 non-null     int64  \n",
      "dtypes: float64(13), int64(1)\n",
      "memory usage: 4.1 KB\n",
      "None\n"
     ]
    },
    {
     "data": {
      "image/png": "[encoded data removed]",
      "text/plain": [
       "<Figure size 500x300 with 1 Axes>"
      ]
     },
     "metadata": {},
     "output_type": "display_data"
    },
    {
     "data": {
      "image/png": "[encoded data removed]",
      "text/plain": [
       "<Figure size 500x300 with 1 Axes>"
      ]
     },
     "metadata": {},
     "output_type": "display_data"
    }
   ],
   "source": [
    "train_stats = train_df.describe()\n",
    "print(\"Train Data Statistics:\",train_stats)         \n",
    "\n",
    "corr_matrix = train_df.corr() \n",
    "print(\"\\nCorrelation Matrix:\\n\",corr_matrix)        \n",
    "\n",
    "print(\"\\nTrain Data Info:\")                          \n",
    "print(train_df.info())\n",
    "\n",
    "print(\"\\nTest Data Info:\")                          \n",
    "print(test_df.info())\n",
    "\n",
    "plt.figure(figsize=(5, 3))\n",
    "plt.scatter(train_df['alcohol'], train_df['proline'], alpha=0.7, s=100, color='LightBlue')\n",
    "plt.title('Alcohol vs Proline')\n",
    "plt.xlabel('Alcohol')\n",
    "plt.ylabel('Proline')\n",
    "plt.grid(True)\n",
    "plt.show()                                          \n",
    "\n",
    "plt.figure(figsize=(5, 3))\n",
    "plt.hist(train_df['alcohol'], bins=15, color='LightBlue', edgecolor='black')\n",
    "plt.title('Distribution of Alcohol')\n",
    "plt.xlabel('Alcohol')\n",
    "plt.ylabel('Frequency')\n",
    "plt.show()          "
   ]
  },
  {
   "cell_type": "markdown",
   "id": "fb36672a",
   "metadata": {},
   "source": [
    "## Part 3 - Experiments\n",
    "You could add as many code cells as needed"
   ]
  },
  {
   "cell_type": "code",
   "execution_count": 185,
   "id": "b7098585",
   "metadata": {},
   "outputs": [
    {
     "name": "stdout",
     "output_type": "stream",
     "text": [
      "           Model                            Hyperparameters  Macro-average-f1\n",
      "0            KNN  {'n_neighbors': 9, 'weights': 'distance'}          0.937893\n",
      "1  Decision Tree  {'max_depth': 10, 'min_samples_split': 2}          0.881988\n"
     ]
    }
   ],
   "source": [
    "macro_f1_scorer = make_scorer(f1_score, average='macro')       \n",
    "model_options = ['KNN', 'Decision Tree']   \n",
    "                                            \n",
    "hyperparameters = { \n",
    "    'KNN': {'n_neighbors': [3, 5, 7, 9], 'weights': ['uniform', 'distance']},\n",
    "    'Decision Tree': {'max_depth': [None, 10, 20, 30], 'min_samples_split': [2, 10, 20]}\n",
    "}\n",
    "\n",
    "results_list = []\n",
    "\n",
    "for model_option in model_options:                           \n",
    "    if model_option == 'KNN':\n",
    "        model = KNeighborsClassifier()\n",
    "    elif model_option == 'Decision Tree':\n",
    "        model = DecisionTreeClassifier()\n",
    "        \n",
    "    param_grid = hyperparameters[model_option]\n",
    "    \n",
    "    grid_search = GridSearchCV(estimator=model, param_grid=param_grid, cv=5, scoring=macro_f1_scorer)\n",
    "    grid_search.fit(X_train, y_train)   \n",
    "                                      \n",
    "    \n",
    "   \n",
    "    best_score = grid_search.best_score_                   \n",
    "    best_params = grid_search.best_params_\n",
    "    results_list.append({'Model': model_option,\n",
    "                         'Hyperparameters': best_params,\n",
    "                         'Macro-average-f1': best_score})\n",
    "\n",
    "results_df = pd.DataFrame(results_list)\n",
    "\n",
    "print(results_df)"
   ]
  },
  {
   "cell_type": "code",
   "execution_count": 186,
   "id": "097afb02",
   "metadata": {},
   "outputs": [],
   "source": [
    "train_labels = train_df['target']      \n",
    "test_labels = test_df['target']\n",
    "train_features = train_df.drop(columns=['target'])\n",
    "test_features = test_df.drop(columns=['target'])\n",
    "\n",
    "numeric_features = train_features.select_dtypes(include=[np.number]).columns.tolist()    \n",
    "scaler = StandardScaler()  \n",
    "train_features[numeric_features] = scaler.fit_transform(train_features[numeric_features]) \n",
    "test_features[numeric_features] = scaler.transform(test_features[numeric_features]) \n",
    "                                                                                \n",
    "categorical_features = train_features.select_dtypes(include=['object']).columns.tolist()\n",
    "if categorical_features:              \n",
    "    encoder = OneHotEncoder(sparse=False, drop='first')  \n",
    "    encoded_train = pd.DataFrame(encoder.fit_transform(train_features[categorical_features]),\n",
    "                                 columns=encoder.get_feature_names_out(categorical_features))  \n",
    "    encoded_test = pd.DataFrame(encoder.transform(test_features[categorical_features]),\n",
    "                                columns=encoder.get_feature_names_out(categorical_features)) \n",
    "    \n",
    "    train_features = pd.concat([train_features, encoded_train], axis=1)  \n",
    "    test_features = pd.concat([test_features, encoded_test], axis=1)     \n",
    "\n",
    "    train_features.drop(columns=categorical_features, inplace=True)  \n",
    "    test_features.drop(columns=categorical_features, inplace=True) \n",
    "\n",
    "poly = PolynomialFeatures(degree=2, include_bias=False)\n",
    "poly_train_features = poly.fit_transform(train_features)\n",
    "poly_test_features = poly.transform(test_features)      \n",
    "\n",
    "X_train = poly_train_features\n",
    "X_test = poly_test_features\n",
    "y_train = train_labels\n",
    "y_test = test_labels"
   ]
  },
  {
   "cell_type": "code",
   "execution_count": 187,
   "id": "1fa9ec73",
   "metadata": {},
   "outputs": [
    {
     "name": "stdout",
     "output_type": "stream",
     "text": [
      "Best Parameters for KNN: {'n_neighbors': 7, 'weights': 'uniform'}\n"
     ]
    }
   ],
   "source": [
    "knn_model = KNeighborsClassifier()             \n",
    "param_grid_knn = {\n",
    "    'n_neighbors': [3, 5, 7],                  \n",
    "    'weights': ['uniform', 'distance'],\n",
    "}\n",
    "grid_search_knn = GridSearchCV(estimator=knn_model, param_grid=param_grid_knn, cv=5, scoring='accuracy')\n",
    "grid_search_knn.fit(X_train, y_train)           \n",
    "\n",
    "print(\"Best Parameters for KNN:\", grid_search_knn.best_params_)"
   ]
  },
  {
   "cell_type": "code",
   "execution_count": 188,
   "id": "937b653d",
   "metadata": {},
   "outputs": [
    {
     "name": "stdout",
     "output_type": "stream",
     "text": [
      "Best Parameters for the Decision Tree: {'max_depth': 20, 'min_samples_split': 10}\n"
     ]
    }
   ],
   "source": [
    "tree_model = DecisionTreeClassifier()        \n",
    "param_grid_tree = {\n",
    "    'max_depth': [None, 10, 20, 30],         \n",
    "    'min_samples_split': [2, 10, 20]\n",
    "}\n",
    "grid_search_tree = GridSearchCV(estimator=tree_model, param_grid=param_grid_tree, cv=5, scoring='accuracy')\n",
    "grid_search_tree.fit(X_train, y_train)   \n",
    "\n",
    "best_params_tree = grid_search_tree.best_params_\n",
    "\n",
    "print(\"Best Parameters for the Decision Tree:\", best_params_tree)"
   ]
  },
  {
   "cell_type": "markdown",
   "id": "67d97f11",
   "metadata": {},
   "source": [
    "## Part 4 - Training \n",
    "Use the best combination of feature engineering, model (algorithm and hyperparameters) from the experiment part (part 3)"
   ]
  },
  {
   "cell_type": "code",
   "execution_count": 193,
   "id": "93713ead",
   "metadata": {},
   "outputs": [
    {
     "data": {
      "text/html": [
       "<style>#sk-container-id-12 {color: black;background-color: white;}#sk-container-id-12 pre{padding: 0;}#sk-container-id-12 div.sk-toggleable {background-color: white;}#sk-container-id-12 label.sk-toggleable__label {cursor: pointer;display: block;width: 100%;margin-bottom: 0;padding: 0.3em;box-sizing: border-box;text-align: center;}#sk-container-id-12 label.sk-toggleable__label-arrow:before {content: \"▸\";float: left;margin-right: 0.25em;color: #696969;}#sk-container-id-12 label.sk-toggleable__label-arrow:hover:before {color: black;}#sk-container-id-12 div.sk-estimator:hover label.sk-toggleable__label-arrow:before {color: black;}#sk-container-id-12 div.sk-toggleable__content {max-height: 0;max-width: 0;overflow: hidden;text-align: left;background-color: #f0f8ff;}#sk-container-id-12 div.sk-toggleable__content pre {margin: 0.2em;color: black;border-radius: 0.25em;background-color: #f0f8ff;}#sk-container-id-12 input.sk-toggleable__control:checked~div.sk-toggleable__content {max-height: 200px;max-width: 100%;overflow: auto;}#sk-container-id-12 input.sk-toggleable__control:checked~label.sk-toggleable__label-arrow:before {content: \"▾\";}#sk-container-id-12 div.sk-estimator input.sk-toggleable__control:checked~label.sk-toggleable__label {background-color: #d4ebff;}#sk-container-id-12 div.sk-label input.sk-toggleable__control:checked~label.sk-toggleable__label {background-color: #d4ebff;}#sk-container-id-12 input.sk-hidden--visually {border: 0;clip: rect(1px 1px 1px 1px);clip: rect(1px, 1px, 1px, 1px);height: 1px;margin: -1px;overflow: hidden;padding: 0;position: absolute;width: 1px;}#sk-container-id-12 div.sk-estimator {font-family: monospace;background-color: #f0f8ff;border: 1px dotted black;border-radius: 0.25em;box-sizing: border-box;margin-bottom: 0.5em;}#sk-container-id-12 div.sk-estimator:hover {background-color: #d4ebff;}#sk-container-id-12 div.sk-parallel-item::after {content: \"\";width: 100%;border-bottom: 1px solid gray;flex-grow: 1;}#sk-container-id-12 div.sk-label:hover label.sk-toggleable__label {background-color: #d4ebff;}#sk-container-id-12 div.sk-serial::before {content: \"\";position: absolute;border-left: 1px solid gray;box-sizing: border-box;top: 0;bottom: 0;left: 50%;z-index: 0;}#sk-container-id-12 div.sk-serial {display: flex;flex-direction: column;align-items: center;background-color: white;padding-right: 0.2em;padding-left: 0.2em;position: relative;}#sk-container-id-12 div.sk-item {position: relative;z-index: 1;}#sk-container-id-12 div.sk-parallel {display: flex;align-items: stretch;justify-content: center;background-color: white;position: relative;}#sk-container-id-12 div.sk-item::before, #sk-container-id-12 div.sk-parallel-item::before {content: \"\";position: absolute;border-left: 1px solid gray;box-sizing: border-box;top: 0;bottom: 0;left: 50%;z-index: -1;}#sk-container-id-12 div.sk-parallel-item {display: flex;flex-direction: column;z-index: 1;position: relative;background-color: white;}#sk-container-id-12 div.sk-parallel-item:first-child::after {align-self: flex-end;width: 50%;}#sk-container-id-12 div.sk-parallel-item:last-child::after {align-self: flex-start;width: 50%;}#sk-container-id-12 div.sk-parallel-item:only-child::after {width: 0;}#sk-container-id-12 div.sk-dashed-wrapped {border: 1px dashed gray;margin: 0 0.4em 0.5em 0.4em;box-sizing: border-box;padding-bottom: 0.4em;background-color: white;}#sk-container-id-12 div.sk-label label {font-family: monospace;font-weight: bold;display: inline-block;line-height: 1.2em;}#sk-container-id-12 div.sk-label-container {text-align: center;}#sk-container-id-12 div.sk-container {/* jupyter's `normalize.less` sets `[hidden] { display: none; }` but bootstrap.min.css set `[hidden] { display: none !important; }` so we also need the `!important` here to be able to override the default hidden behavior on the sphinx rendered scikit-learn.org. See: https://github.com/scikit-learn/scikit-learn/issues/21755 */display: inline-block !important;position: relative;}#sk-container-id-12 div.sk-text-repr-fallback {display: none;}</style><div id=\"sk-container-id-12\" class=\"sk-top-container\"><div class=\"sk-text-repr-fallback\"><pre>KNeighborsClassifier(n_neighbors=9, weights=&#x27;distance&#x27;)</pre><b>In a Jupyter environment, please rerun this cell to show the HTML representation or trust the notebook. <br />On GitHub, the HTML representation is unable to render, please try loading this page with nbviewer.org.</b></div><div class=\"sk-container\" hidden><div class=\"sk-item\"><div class=\"sk-estimator sk-toggleable\"><input class=\"sk-toggleable__control sk-hidden--visually\" id=\"sk-estimator-id-12\" type=\"checkbox\" checked><label for=\"sk-estimator-id-12\" class=\"sk-toggleable__label sk-toggleable__label-arrow\">KNeighborsClassifier</label><div class=\"sk-toggleable__content\"><pre>KNeighborsClassifier(n_neighbors=9, weights=&#x27;distance&#x27;)</pre></div></div></div></div></div>"
      ],
      "text/plain": [
       "KNeighborsClassifier(n_neighbors=9, weights='distance')"
      ]
     },
     "execution_count": 193,
     "metadata": {},
     "output_type": "execute_result"
    }
   ],
   "source": [
    "best_combination = results_df.loc[results_df['Macro-average-f1'].idxmax()]    \n",
    "\n",
    "if best_combination['Model'] == 'KNN':               \n",
    "    model = KNeighborsClassifier(**best_combination['Hyperparameters'])         \n",
    "elif best_combination['Model'] == 'Decision Tree':   \n",
    "    model = DecisionTreeClassifier(**best_combination['Hyperparameters'])\n",
    "\n",
    "model.fit(X_train, y_train)       "
   ]
  },
  {
   "cell_type": "markdown",
   "id": "259ab902",
   "metadata": {},
   "source": [
    "## Part 5 - Apply on test and show model performance estimation"
   ]
  },
  {
   "cell_type": "code",
   "execution_count": 209,
   "id": "d9971aa5",
   "metadata": {},
   "outputs": [
    {
     "name": "stdout",
     "output_type": "stream",
     "text": [
      "Test Accuracy: 0.9444444444444444\n",
      "Test Macro-average F1 Score: 0.9453734671125975\n",
      "First 5 predictions on test set: [2 0 2 1 2]\n"
     ]
    }
   ],
   "source": [
    "test_predictions = model.predict(X_test)\n",
    "\n",
    "test_accuracy = accuracy_score(y_test, test_predictions)\n",
    "\n",
    "test_f1_macro = f1_score(y_test, test_predictions, average='macro')\n",
    "\n",
    "print(\"Test Accuracy:\", test_accuracy)\n",
    "print(\"Test Macro-average F1 Score:\", test_f1_macro)\n",
    "\n",
    "print(\"First 5 predictions on test set:\", test_predictions[:5])"
   ]
  }
 ],
 "metadata": {
  "kernelspec": {
   "display_name": "Python 3 (ipykernel)",
   "language": "python",
   "name": "python3"
  },
  "language_info": {
   "codemirror_mode": {
    "name": "ipython",
    "version": 3
   },
   "file_extension": ".py",
   "mimetype": "text/x-python",
   "name": "python",
   "nbconvert_exporter": "python",
   "pygments_lexer": "ipython3",
   "version": "3.11.7"
  }
 },
 "nbformat": 4,
 "nbformat_minor": 5
}
